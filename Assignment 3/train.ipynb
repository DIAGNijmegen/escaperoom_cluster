{
 "cells": [
  {
   "cell_type": "markdown",
   "id": "c877e8c4-c029-43fe-9663-b7e5c58d5dda",
   "metadata": {},
   "source": [
    "# Model Development"
   ]
  },
  {
   "cell_type": "code",
   "execution_count": 1,
   "id": "f1419773-7fc2-48c1-bd24-83045a49ba0a",
   "metadata": {},
   "outputs": [],
   "source": [
    "import tqdm\n",
    "import torch\n",
    "import torch.nn as nn\n",
    "import torch.optim as optim\n",
    "import pandas as pd\n",
    "\n",
    "from PIL import Image\n",
    "from pathlib import Path\n",
    "from torchvision import datasets, transforms, models\n",
    "from sklearn.metrics import roc_auc_score\n",
    "from sklearn.model_selection import train_test_split"
   ]
  },
  {
   "cell_type": "code",
   "execution_count": 2,
   "id": "e5cfcbc1-a0e5-4102-84c0-4817aa37e728",
   "metadata": {},
   "outputs": [
    {
     "name": "stdout",
     "output_type": "stream",
     "text": [
      "Requirement already satisfied: tqdm in /usr/local/lib/python3.9/site-packages (4.66.1)\n",
      "\u001b[33mWARNING: You are using pip version 22.0.3; however, version 23.3.1 is available.\n",
      "You should consider upgrading via the '/usr/local/bin/python3.9 -m pip install --upgrade pip' command.\u001b[0m\u001b[33m\n",
      "\u001b[0m"
     ]
    }
   ],
   "source": [
    "!pip3 install --upgrade tqdm"
   ]
  },
  {
   "cell_type": "code",
   "execution_count": 2,
   "id": "a09da1e7-45cf-4c30-be36-c9e91ecb42b2",
   "metadata": {},
   "outputs": [],
   "source": [
    "if torch.cuda.is_available():\n",
    "    device = torch.device(\"cuda\")\n",
    "else:\n",
    "    print(\"no gpu available! Using cpu instead.\")\n",
    "    device = torch.device(\"cpu\")"
   ]
  },
  {
   "cell_type": "code",
   "execution_count": 3,
   "id": "d76f891a-b03c-4538-95e3-680d821dd164",
   "metadata": {},
   "outputs": [],
   "source": [
    "class ImageDataset(torch.utils.data.Dataset):\n",
    "    def __init__(self, df, root_dir, transform=None):\n",
    "        self.df = df\n",
    "        self.root_dir = root_dir\n",
    "        self.transform = transform\n",
    "\n",
    "    def __len__(self):\n",
    "        return len(self.df)\n",
    "\n",
    "    def __getitem__(self, idx):\n",
    "        img_path = Path(self.root_dir, self.df.iloc[idx, 0])\n",
    "        image = Image.open(img_path)\n",
    "        label = int(self.df.iloc[idx, 1])\n",
    "\n",
    "        if self.transform:\n",
    "            image = self.transform(image)\n",
    "\n",
    "        return image, label"
   ]
  },
  {
   "cell_type": "code",
   "execution_count": 4,
   "id": "3a79e2f5-465c-46a0-bd1e-87eb1f9f0fff",
   "metadata": {},
   "outputs": [],
   "source": [
    "transform = transforms.Compose([\n",
    "    transforms.Resize((256, 256)),\n",
    "    transforms.RandomHorizontalFlip(),\n",
    "    transforms.ToTensor(),\n",
    "    transforms.Normalize(mean=[0.485, 0.456, 0.406], std=[0.229, 0.224, 0.225]),\n",
    "])"
   ]
  },
  {
   "cell_type": "code",
   "execution_count": 5,
   "id": "7bcc92de-3707-425e-9bf4-17eb7f42f0be",
   "metadata": {},
   "outputs": [
    {
     "data": {
      "text/html": [
       "<div>\n",
       "<style scoped>\n",
       "    .dataframe tbody tr th:only-of-type {\n",
       "        vertical-align: middle;\n",
       "    }\n",
       "\n",
       "    .dataframe tbody tr th {\n",
       "        vertical-align: top;\n",
       "    }\n",
       "\n",
       "    .dataframe thead th {\n",
       "        text-align: right;\n",
       "    }\n",
       "</style>\n",
       "<table border=\"1\" class=\"dataframe\">\n",
       "  <thead>\n",
       "    <tr style=\"text-align: right;\">\n",
       "      <th></th>\n",
       "      <th>patch_path</th>\n",
       "      <th>label</th>\n",
       "      <th>category</th>\n",
       "    </tr>\n",
       "  </thead>\n",
       "  <tbody>\n",
       "    <tr>\n",
       "      <th>0</th>\n",
       "      <td>/data/pathology/users/clement/diag_day/data/de...</td>\n",
       "      <td>0</td>\n",
       "      <td>benign</td>\n",
       "    </tr>\n",
       "    <tr>\n",
       "      <th>1</th>\n",
       "      <td>/data/pathology/users/clement/diag_day/data/de...</td>\n",
       "      <td>1</td>\n",
       "      <td>cancer</td>\n",
       "    </tr>\n",
       "    <tr>\n",
       "      <th>2</th>\n",
       "      <td>/data/pathology/users/clement/diag_day/data/de...</td>\n",
       "      <td>0</td>\n",
       "      <td>benign</td>\n",
       "    </tr>\n",
       "    <tr>\n",
       "      <th>3</th>\n",
       "      <td>/data/pathology/users/clement/diag_day/data/de...</td>\n",
       "      <td>1</td>\n",
       "      <td>cancer</td>\n",
       "    </tr>\n",
       "    <tr>\n",
       "      <th>4</th>\n",
       "      <td>/data/pathology/users/clement/diag_day/data/de...</td>\n",
       "      <td>1</td>\n",
       "      <td>cancer</td>\n",
       "    </tr>\n",
       "  </tbody>\n",
       "</table>\n",
       "</div>"
      ],
      "text/plain": [
       "                                          patch_path  label category\n",
       "0  /data/pathology/users/clement/diag_day/data/de...      0   benign\n",
       "1  /data/pathology/users/clement/diag_day/data/de...      1   cancer\n",
       "2  /data/pathology/users/clement/diag_day/data/de...      0   benign\n",
       "3  /data/pathology/users/clement/diag_day/data/de...      1   cancer\n",
       "4  /data/pathology/users/clement/diag_day/data/de...      1   cancer"
      ]
     },
     "execution_count": 5,
     "metadata": {},
     "output_type": "execute_result"
    }
   ],
   "source": [
    "csv_fp = '/data/pathology/users/clement/diag_day/data/dev.csv'\n",
    "df = pd.read_csv(csv_fp)\n",
    "df.head()"
   ]
  },
  {
   "cell_type": "code",
   "execution_count": 6,
   "id": "1b448d44-355c-4c4f-8d88-395e8fa84be6",
   "metadata": {},
   "outputs": [
    {
     "data": {
      "text/plain": [
       "(4800, 1200)"
      ]
     },
     "execution_count": 6,
     "metadata": {},
     "output_type": "execute_result"
    }
   ],
   "source": [
    "train_df, tune_df = train_test_split(df, test_size=0.2, random_state=42, stratify=df['label'])\n",
    "len(train_df), len(tune_df)"
   ]
  },
  {
   "cell_type": "markdown",
   "id": "40a1079d-673f-4a44-b1e5-a47f8553acba",
   "metadata": {},
   "source": [
    "**<span style=\"color:red;\">specify here the path to the folder where the development set images are</span>**"
   ]
  },
  {
   "cell_type": "code",
   "execution_count": 7,
   "id": "73188c86-ceb0-4e10-851a-ab06c52ac589",
   "metadata": {},
   "outputs": [],
   "source": [
    "image_dir = '/data/pathology/users/clement/diag_day/data/dev'"
   ]
  },
  {
   "cell_type": "code",
   "execution_count": 8,
   "id": "e38a8c64-a213-44c1-9c2e-0cea98709897",
   "metadata": {},
   "outputs": [],
   "source": [
    "train_dataset = ImageDataset(df=train_df, root_dir=image_dir, transform=transform)\n",
    "tune_dataset = ImageDataset(df=tune_df, root_dir=image_dir, transform=transform)"
   ]
  },
  {
   "cell_type": "code",
   "execution_count": 9,
   "id": "dcfa65c7-e81f-4198-897f-5376a193304c",
   "metadata": {},
   "outputs": [],
   "source": [
    "train_loader = torch.utils.data.DataLoader(train_dataset, batch_size=32, shuffle=True)\n",
    "tune_loader = torch.utils.data.DataLoader(tune_dataset, batch_size=32, shuffle=False)"
   ]
  },
  {
   "cell_type": "code",
   "execution_count": 10,
   "id": "287ffcc2-c99b-4155-9042-84c4544d26ae",
   "metadata": {},
   "outputs": [],
   "source": [
    "model = models.resnet18(pretrained=True)\n",
    "model.fc = nn.Linear(model.fc.in_features, 2)  # Modifying for binary classification\n",
    "model = model.to(device)"
   ]
  },
  {
   "cell_type": "code",
   "execution_count": 11,
   "id": "a50e483b-eca4-4a56-aa47-c52fae264c64",
   "metadata": {},
   "outputs": [],
   "source": [
    "criterion = nn.CrossEntropyLoss()"
   ]
  },
  {
   "cell_type": "code",
   "execution_count": 12,
   "id": "7fda4eb9-2664-4950-8be3-018e1b657d39",
   "metadata": {},
   "outputs": [],
   "source": [
    "optimizer = optim.Adam(model.parameters(), lr=0.001)"
   ]
  },
  {
   "cell_type": "code",
   "execution_count": 17,
   "id": "14c5ad45-e372-4193-aeae-c9dc2f0a6fed",
   "metadata": {},
   "outputs": [],
   "source": [
    "def train_model(model, train_loader, tune_loader, criterion, optimizer, nepochs=10, tune_every_n_epochs=2):\n",
    "\n",
    "    best_tune_loss = float('inf')\n",
    "    best_model_wts = None\n",
    "\n",
    "    with tqdm.notebook.tqdm(\n",
    "        range(nepochs),\n",
    "        desc=\"Model training\",\n",
    "        unit=\" epoch\",\n",
    "        position=0,\n",
    "        leave=True\n",
    "    ) as t:\n",
    "\n",
    "        for epoch in t:\n",
    "\n",
    "            model.train()\n",
    "            running_loss = 0.0\n",
    "            with tqdm.notebook.tqdm(\n",
    "                train_loader,\n",
    "                desc=f\"Train - Epoch [{epoch+1}/{nepochs}]\",\n",
    "                unit=\" batch\",\n",
    "                leave=False,\n",
    "            ) as train_t:\n",
    "\n",
    "                for inputs, labels in train_t:\n",
    "\n",
    "                    inputs, labels = inputs.to(device), labels.to(device)\n",
    "                    optimizer.zero_grad()\n",
    "                    outputs = model(inputs)\n",
    "                    loss = criterion(outputs, labels)\n",
    "                    loss.backward()\n",
    "                    optimizer.step()\n",
    "                    running_loss += loss.item()\n",
    "\n",
    "                tqdm.tqdm.write(f\"Epoch [{epoch+1}/{nepochs}] | Training Loss: {running_loss/len(train_loader)}\")\n",
    "\n",
    "            # tuning step every n epochs\n",
    "            if (epoch + 1) % tune_every_n_epochs == 0:\n",
    "\n",
    "                model.eval()\n",
    "                tune_loss = 0.0\n",
    "                all_labels = []\n",
    "                all_predictions = []\n",
    "\n",
    "                with torch.no_grad():\n",
    "\n",
    "                    with tqdm.notebook.tqdm(\n",
    "                        tune_loader,\n",
    "                        desc=f\"Tune\",\n",
    "                        unit=\" batch\",\n",
    "                        leave=False,\n",
    "                    ) as tune_t:\n",
    "\n",
    "                        for inputs, labels in tune_t:\n",
    "\n",
    "                            inputs, labels = inputs.to(device), labels.to(device)\n",
    "                            outputs = model(inputs)\n",
    "                            loss = criterion(outputs, labels)\n",
    "                            tune_loss += loss.item()\n",
    "                            \n",
    "                            _, preds = torch.max(outputs, 1)\n",
    "                            all_labels.extend(labels.cpu().numpy())\n",
    "                            all_predictions.extend(preds.cpu().numpy())\n",
    "\n",
    "                average_tune_loss = tune_loss / len(tune_loader)\n",
    "                auc_score = roc_auc_score(all_labels, all_predictions)\n",
    "                tqdm.tqdm.write(f\"Epoch [{epoch+1}/{nepochs}] | Tuning Loss after: {average_tune_loss} | AUC: {auc_score}\")\n",
    "\n",
    "                # get best model weights\n",
    "                if average_tune_loss < best_tune_loss:\n",
    "                    best_tune_loss = average_tune_loss\n",
    "                    best_model_wts = model.state_dict().copy()\n",
    "\n",
    "    print(\"Finished training\")\n",
    "    return best_model_wts"
   ]
  },
  {
   "cell_type": "code",
   "execution_count": 18,
   "id": "ba1f02a3-a199-43f8-926f-91c75d5c3d91",
   "metadata": {},
   "outputs": [
    {
     "data": {
      "application/vnd.jupyter.widget-view+json": {
       "model_id": "407ba368e041436e867d600aea23e6d5",
       "version_major": 2,
       "version_minor": 0
      },
      "text/plain": [
       "Model training:   0%|          | 0/1 [00:00<?, ? epoch/s]"
      ]
     },
     "metadata": {},
     "output_type": "display_data"
    },
    {
     "data": {
      "application/vnd.jupyter.widget-view+json": {
       "model_id": "",
       "version_major": 2,
       "version_minor": 0
      },
      "text/plain": [
       "Train - Epoch [1/1]:   0%|          | 0/150 [00:00<?, ? batch/s]"
      ]
     },
     "metadata": {},
     "output_type": "display_data"
    },
    {
     "name": "stdout",
     "output_type": "stream",
     "text": [
      "Epoch [1/1] | Training Loss: 0.4167719252904256\n"
     ]
    },
    {
     "data": {
      "application/vnd.jupyter.widget-view+json": {
       "model_id": "",
       "version_major": 2,
       "version_minor": 0
      },
      "text/plain": [
       "Tune:   0%|          | 0/38 [00:00<?, ? batch/s]"
      ]
     },
     "metadata": {},
     "output_type": "display_data"
    },
    {
     "name": "stdout",
     "output_type": "stream",
     "text": [
      "Epoch [1/1] | Tuning Loss after: 0.4292183596836893 | AUC: 0.7983333333333335\n",
      "Finished training\n"
     ]
    }
   ],
   "source": [
    "best_weights = train_model(model, train_loader, tune_loader, criterion, optimizer, nepochs=1, tune_every_n_epochs=1)\n",
    "torch.save(best_weights, 'best.pt')"
   ]
  },
  {
   "cell_type": "code",
   "execution_count": null,
   "id": "41af45f9-3b86-4cf8-8687-11c613a00452",
   "metadata": {},
   "outputs": [],
   "source": []
  },
  {
   "cell_type": "code",
   "execution_count": null,
   "id": "7512d6bd-b878-42ec-809f-07cc788bdfe3",
   "metadata": {},
   "outputs": [],
   "source": []
  }
 ],
 "metadata": {
  "kernelspec": {
   "display_name": "Python 3 (ipykernel)",
   "language": "python",
   "name": "python3"
  },
  "language_info": {
   "codemirror_mode": {
    "name": "ipython",
    "version": 3
   },
   "file_extension": ".py",
   "mimetype": "text/x-python",
   "name": "python",
   "nbconvert_exporter": "python",
   "pygments_lexer": "ipython3",
   "version": "3.9.10"
  }
 },
 "nbformat": 4,
 "nbformat_minor": 5
}
