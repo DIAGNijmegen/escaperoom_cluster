{
 "cells": [
  {
   "cell_type": "markdown",
   "id": "c0a048b0-6ea6-4147-8002-e38820592230",
   "metadata": {},
   "source": [
    "# Data Analysis"
   ]
  },
  {
   "cell_type": "code",
   "execution_count": null,
   "id": "64f7d6ce-869a-4c99-af90-525ba7745869",
   "metadata": {},
   "outputs": [],
   "source": [
    "import pandas as pd\n",
    "import matplotlib.pyplot as plt\n",
    "import seaborn as sns\n",
    "from PIL import Image\n",
    "from pathlib import Path\n",
    "import wholeslidedata"
   ]
  },
  {
   "cell_type": "code",
   "execution_count": null,
   "id": "bdd019d6-548e-4aff-997b-093719109897",
   "metadata": {},
   "outputs": [],
   "source": [
    "csv_fp = '/data/pathology/users/clement/diag_day/data/dev.csv'\n",
    "df = pd.read_csv(csv_fp)\n",
    "df.head()"
   ]
  },
  {
   "cell_type": "code",
   "execution_count": null,
   "id": "947dccab-5850-444f-beb7-c36e8a239168",
   "metadata": {},
   "outputs": [],
   "source": [
    "category_counts_df = df.category.value_counts().reset_index().rename(columns={\"index\": \"category\", \"category\": \"num\"})\n",
    "category_counts_df.head()"
   ]
  },
  {
   "cell_type": "code",
   "execution_count": null,
   "id": "ad50a5b7-f021-4a5c-ab48-e7bb10b1c6ac",
   "metadata": {},
   "outputs": [],
   "source": [
    "tmp = df.category.value_counts(dropna=False, normalize=True)\n",
    "tmp = tmp.mul(100)\n",
    "tmp = tmp.rename('proportion')\n",
    "tmp = tmp.reset_index().rename(columns={'index': 'category'})\n",
    "tmp"
   ]
  },
  {
   "cell_type": "code",
   "execution_count": null,
   "id": "76e47f83-804e-454f-84a1-a6cd0a64f2f3",
   "metadata": {},
   "outputs": [],
   "source": [
    "pad = tmp[\"proportion\"].max()*0.02\n",
    "\n",
    "plt.figure(dpi=100)\n",
    "ax = sns.barplot(data=tmp, x=\"category\", y=\"proportion\")\n",
    "for i, p in enumerate(ax.patches):    \n",
    "    x, y = p.get_x(), p.get_y()\n",
    "    w, h = p.get_width(), p.get_height()\n",
    "    txt_x, txt_y = x+w/2, h+pad\n",
    "    \n",
    "    plt.text(txt_x, txt_y, f'{h:.1f}%', horizontalalignment='center', size='x-small')\n",
    "\n",
    "plt.xlabel(\"category\", labelpad=10)\n",
    "plt.ylabel(\"proportion\", labelpad=10)\n",
    "plt.ylim(0, max([p.get_height() for p in ax.patches])*1.2)\n",
    "plt.title(f\"Development Set\", pad=10)\n",
    "plt.tight_layout()\n",
    "plt.savefig(\"label_dist.png\", dpi=300)\n",
    "plt.show()"
   ]
  },
  {
   "cell_type": "code",
   "execution_count": null,
   "id": "d01b932e-a4ed-4420-8cc1-e44fb9eaf7c1",
   "metadata": {},
   "outputs": [],
   "source": [
    "tmp = df.label.value_counts(dropna=False)\n",
    "tmp = tmp.rename('num')\n",
    "tmp = tmp.reset_index().rename(columns={'index': 'label'})\n",
    "tmp"
   ]
  },
  {
   "cell_type": "code",
   "execution_count": null,
   "id": "869c18a5-3336-4e17-ae84-897010a699f1",
   "metadata": {},
   "outputs": [],
   "source": [
    "pad = tmp[\"num\"].max()*0.02\n",
    "\n",
    "plt.figure(dpi=100)\n",
    "ax = sns.barplot(data=tmp, x=\"label\", y=\"num\")\n",
    "for i, p in enumerate(ax.patches):    \n",
    "    x, y = p.get_x(), p.get_y()\n",
    "    w, h = p.get_width(), p.get_height()\n",
    "    txt_x, txt_y = x+w/2, h+pad\n",
    "    \n",
    "    plt.text(txt_x, txt_y, f'{int(h)}', horizontalalignment='center', size='x-small')\n",
    "\n",
    "plt.xlabel(\"label\", labelpad=10)\n",
    "plt.ylabel(\"count\", labelpad=10)\n",
    "plt.ylim(0, max([p.get_height() for p in ax.patches])*1.1)\n",
    "plt.title(f\"Development Set\", pad=10)\n",
    "plt.tight_layout()\n",
    "plt.show()"
   ]
  },
  {
   "cell_type": "code",
   "execution_count": null,
   "id": "c74d08df-6b8d-44bc-a148-0d10950aca59",
   "metadata": {},
   "outputs": [],
   "source": [
    "num_examples = 5  # Number of examples to display\n",
    "\n",
    "# Checking if enough examples are available\n",
    "if len(df) >= num_examples:\n",
    "    fig, axes = plt.subplots(1, num_examples, figsize=(15, 5))\n",
    "\n",
    "    for i, ax in enumerate(axes):\n",
    "        # Reading the image from the filepath\n",
    "        img_path = df.iloc[i]['patch_path']\n",
    "        if Path(img_path).is_file():\n",
    "            img = Image.open(img_path)\n",
    "            ax.imshow(img)\n",
    "            ax.set_title(f'Label: {df.iloc[i][\"category\"]}')\n",
    "            ax.axis('off')\n",
    "        else:\n",
    "            ax.set_title('Image not found')\n",
    "            ax.axis('off')\n",
    "    plt.show()\n",
    "else:\n",
    "    print(f\"Not enough examples in the dataset, only {len(df)} available.\")"
   ]
  },
  {
   "cell_type": "code",
   "execution_count": null,
   "id": "b9008375-5881-4694-ac42-7f20f308dafd",
   "metadata": {},
   "outputs": [],
   "source": []
  },
  {
   "cell_type": "code",
   "execution_count": null,
   "id": "06b3b888-c3c7-4f70-bca8-e8adc9b90ffa",
   "metadata": {},
   "outputs": [],
   "source": []
  },
  {
   "cell_type": "code",
   "execution_count": null,
   "id": "e7740d59-5a53-4902-a010-b3be6209922b",
   "metadata": {},
   "outputs": [],
   "source": []
  },
  {
   "cell_type": "code",
   "execution_count": null,
   "id": "2f8570d1-978e-4d91-8ac4-40215a1ff1a3",
   "metadata": {},
   "outputs": [],
   "source": []
  },
  {
   "cell_type": "code",
   "execution_count": null,
   "id": "35d8907a-0261-42e4-893b-3f011fbaa580",
   "metadata": {},
   "outputs": [],
   "source": []
  }
 ],
 "metadata": {
  "kernelspec": {
   "display_name": "Python 3 (ipykernel)",
   "language": "python",
   "name": "python3"
  },
  "language_info": {
   "codemirror_mode": {
    "name": "ipython",
    "version": 3
   },
   "file_extension": ".py",
   "mimetype": "text/x-python",
   "name": "python",
   "nbconvert_exporter": "python",
   "pygments_lexer": "ipython3",
   "version": "3.9.10"
  }
 },
 "nbformat": 4,
 "nbformat_minor": 5
}
